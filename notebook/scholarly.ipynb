{
 "cells": [
  {
   "cell_type": "code",
   "execution_count": 7,
   "metadata": {},
   "outputs": [],
   "source": [
    "import os\n",
    "from dotenv import load_dotenv\n",
    "\n",
    "\n",
    "load_dotenv()\n",
    "\n",
    "scopus_api = os.environ[\"SCOPUS_API\"]"
   ]
  },
  {
   "cell_type": "code",
   "execution_count": 14,
   "metadata": {},
   "outputs": [
    {
     "ename": "AttributeError",
     "evalue": "'dict' object has no attribute 'title'",
     "output_type": "error",
     "traceback": [
      "\u001b[1;31m---------------------------------------------------------------------------\u001b[0m",
      "\u001b[1;31mAttributeError\u001b[0m                            Traceback (most recent call last)",
      "Cell \u001b[1;32mIn[14], line 2\u001b[0m\n\u001b[0;32m      1\u001b[0m \u001b[39mfor\u001b[39;00m i, article \u001b[39min\u001b[39;00m \u001b[39menumerate\u001b[39m(doc_srch\u001b[39m.\u001b[39mresults):\n\u001b[1;32m----> 2\u001b[0m     \u001b[39mprint\u001b[39m(\u001b[39mf\u001b[39m\u001b[39m'\u001b[39m\u001b[39m{\u001b[39;00mi\u001b[39m+\u001b[39m\u001b[39m1\u001b[39m\u001b[39m}\u001b[39;00m\u001b[39m. \u001b[39m\u001b[39m{\u001b[39;00marticle\u001b[39m.\u001b[39mtitle\u001b[39m}\u001b[39;00m\u001b[39m'\u001b[39m)\n\u001b[0;32m      3\u001b[0m     \u001b[39mprint\u001b[39m(\u001b[39mf\u001b[39m\u001b[39m'\u001b[39m\u001b[39mAuthors: \u001b[39m\u001b[39m{\u001b[39;00m\u001b[39m\"\u001b[39m\u001b[39m, \u001b[39m\u001b[39m\"\u001b[39m\u001b[39m.\u001b[39mjoin(article\u001b[39m.\u001b[39mauthors)\u001b[39m}\u001b[39;00m\u001b[39m'\u001b[39m)\n\u001b[0;32m      4\u001b[0m     \u001b[39mprint\u001b[39m(\u001b[39mf\u001b[39m\u001b[39m'\u001b[39m\u001b[39mJournal: \u001b[39m\u001b[39m{\u001b[39;00marticle\u001b[39m.\u001b[39mpublicationName\u001b[39m}\u001b[39;00m\u001b[39m, Volume \u001b[39m\u001b[39m{\u001b[39;00marticle\u001b[39m.\u001b[39mvolume\u001b[39m}\u001b[39;00m\u001b[39m, Issue \u001b[39m\u001b[39m{\u001b[39;00marticle\u001b[39m.\u001b[39missue\u001b[39m}\u001b[39;00m\u001b[39m'\u001b[39m)\n",
      "\u001b[1;31mAttributeError\u001b[0m: 'dict' object has no attribute 'title'"
     ]
    }
   ],
   "source": [
    "for i, article in enumerate(doc_srch.results):\n",
    "    print(f'{i+1}. {article.title}')\n",
    "    print(f'Authors: {\", \".join(article.authors)}')\n",
    "    print(f'Journal: {article.publicationName}, Volume {article.volume}, Issue {article.issue}')\n",
    "    print(f'Year: {article.coverDate}')\n",
    "    print(f'Citations: {article.citedby_count}')\n",
    "    print(f'DOI: {article.doi}\\n')\n"
   ]
  },
  {
   "cell_type": "code",
   "execution_count": 8,
   "metadata": {},
   "outputs": [],
   "source": [
    "from pybliometrics.scopus import AbstractRetrieval\n",
    "ab = AbstractRetrieval(\"10.1016/j.softx.2019.100263\", api_key=scopus_api)"
   ]
  },
  {
   "cell_type": "code",
   "execution_count": 9,
   "metadata": {},
   "outputs": [
    {
     "data": {
      "text/plain": [
       "['AbstractRetrieval',\n",
       " 'AffiliationRetrieval',\n",
       " 'AffiliationSearch',\n",
       " 'AuthorRetrieval',\n",
       " 'AuthorSearch',\n",
       " 'BASE_PATH',\n",
       " 'CONFIG_FILE',\n",
       " 'CitationOverview',\n",
       " 'DEFAULT_PATHS',\n",
       " 'Dict',\n",
       " 'KEYS',\n",
       " 'List',\n",
       " 'NamedTuple',\n",
       " 'Optional',\n",
       " 'OrderedDict',\n",
       " 'Path',\n",
       " 'PlumXMetrics',\n",
       " 'RATELIMITS',\n",
       " 'RETRIEVAL_BASE',\n",
       " 'Retrieval',\n",
       " 'SEARCH_BASE',\n",
       " 'SEARCH_MAX_ENTRIES',\n",
       " 'ScopusSearch',\n",
       " 'Search',\n",
       " 'SerialSearch',\n",
       " 'SerialTitle',\n",
       " 'SubjectClassifications',\n",
       " 'Tuple',\n",
       " 'URLS',\n",
       " 'Union',\n",
       " '__builtins__',\n",
       " '__cached__',\n",
       " '__doc__',\n",
       " '__file__',\n",
       " '__loader__',\n",
       " '__name__',\n",
       " '__package__',\n",
       " '__path__',\n",
       " '__spec__',\n",
       " 'abstract_citation',\n",
       " 'abstract_retrieval',\n",
       " 'affiliation_retrieval',\n",
       " 'affiliation_search',\n",
       " 'author_retrieval',\n",
       " 'author_search',\n",
       " 'chained_get',\n",
       " 'check_field_consistency',\n",
       " 'check_integrity',\n",
       " 'check_parameter_value',\n",
       " 'checks',\n",
       " 'config',\n",
       " 'configparser',\n",
       " 'constants',\n",
       " 'create_config',\n",
       " 'datetime',\n",
       " 'deduplicate',\n",
       " 'deque',\n",
       " 'detect_id_type',\n",
       " 'environ',\n",
       " 'errors',\n",
       " 'exception',\n",
       " 'filter_digits',\n",
       " 'get_content',\n",
       " 'get_folder',\n",
       " 'get_freetoread',\n",
       " 'get_id',\n",
       " 'get_link',\n",
       " 'listify',\n",
       " 'loads',\n",
       " 'make_int_if_possible',\n",
       " 'make_search_summary',\n",
       " 'md5',\n",
       " 'namedtuple',\n",
       " 'parse_affiliation',\n",
       " 'parse_content',\n",
       " 'parse_date_created',\n",
       " 'plumx_metrics',\n",
       " 'reduce',\n",
       " 'requests',\n",
       " 'scopus_search',\n",
       " 'serial_search',\n",
       " 'serial_title',\n",
       " 'session',\n",
       " 'startup',\n",
       " 'subject_classifications',\n",
       " 'superclasses',\n",
       " 'user_agent',\n",
       " 'utils',\n",
       " 'version_info',\n",
       " 'warn']"
      ]
     },
     "execution_count": 9,
     "metadata": {},
     "output_type": "execute_result"
    }
   ],
   "source": [
    "import pybliometrics\n",
    "dir(pybliometrics.scopus)"
   ]
  },
  {
   "cell_type": "code",
   "execution_count": 11,
   "metadata": {},
   "outputs": [],
   "source": [
    "query = 'TITLE-ABS-KEY(\"COVID-19\" OR \"SARS-CoV-2\" OR \"coronavirus\") AND TITLE-ABS-KEY(\"forecast*\" OR \"prediction\" OR \"modeling\") AND (PUBYEAR > 2021)'"
   ]
  },
  {
   "cell_type": "code",
   "execution_count": 18,
   "metadata": {},
   "outputs": [
    {
     "data": {
      "text/plain": [
       "Document(eid='2-s2.0-85146139214', doi='10.1038/s41408-022-00763-w', pii=None, pubmed_id='36631449', title='Pevonedistat, a Nedd8-activating enzyme inhibitor, in combination with ibrutinib in patients with relapsed/refractory B-cell non-Hodgkin lymphoma', subtype='ar', subtypeDescription='Article', creator='Torka P.', afid='60022577;60016733;60007474;60007267', affilname='Roswell Park Cancer Institute;Oregon Health &amp; Science University;City of Hope National Med Center;Geisel School of Medicine at Dartmouth', affiliation_city='Buffalo;Portland;Duarte;Hanover', affiliation_country='United States;United States;United States;United States', author_count='18', author_names='Torka, Pallawi;Kambhampati, Swetha;Chen, Lu;Wang, Xiaoguang;Chen, Canping;Vuong, Dan;Qin, Hanjun;Muir, Alexandra;Orand, Kirsten;Borja, Ivana;Lynne Smith, D.;Herrera, Alex F.;Spurgeon, Stephen E.F.;Park, Byung;Lewis, Lionel D.;Hernandez-Ilizaliturri, Francisco;Xia, Zheng;Danilov, Alexey V.', author_ids='57202964587;56014672200;58025692200;57244377700;58061370500;58061294500;58061219300;58061294600;57226109430;58061370600;57202286163;56921436400;12143257000;58061331500;58061444500;57202965326;56035156000;55706838800', author_afids='60022577;60007474;60007474;60007474;60016733;60007474;60007474;60007474;60007474;60007474;60007474;60007474;60016733;60016733;60007267;60022577;60016733;60007474', coverDate='2023-12-01', coverDisplayDate='December 2023', publicationName='Blood Cancer Journal', issn=None, source_id='21100205926', eIssn='20445385', aggregationType='Journal', volume='13', issueIdentifier='1', article_number='9', pageRange=None, description='Pevonedistat (TAK924) is a Nedd8-activating enzyme inhibitor with preclinical activity in non-Hodgkin lymphoma (NHL). This open-label, Phase I, multicenter, investigator-sponsored study enrolled patients with relapsed/refractory (R/R) NHL and chronic lymphocytic leukemia (CLL). The primary objective was safety. Pevonedistat was given intravenously on days 1, 3, 5 of a 21-day cycle for 8 cycles at five dose levels (15 to 50 mg/m2); ibrutinib was administered at 420 or 560 mg orally daily continuously. Eighteen patients with NHL were enrolled, including 8 patients with mantle cell lymphoma (MCL) and 4 patients with CLL. One dose-limiting toxicity (mediastinal hemorrhage) occurred at 50 mg/m2 of pevonedistat which is the estimated maximum tolerated dose. Bruising and diarrhea were the most common adverse events (56% and 44%). Atrial fibrillation occurred in 3 patients (17%). Grade ≥3 toxicities included arthralgia, atrial fibrillation, bone pain, diarrhea, hypertension, and mediastinal hemorrhage (one patient each). The overall response rate (ORR) was 65% (100% ORR in MCL). Pevonedistat disposition was not modified by ibrutinib. scRNA-Seq analysis showed that pevonedistat downregulated NFκB signaling in malignant B-cells in vivo. Thus, pevonedistat combined with ibrutinib demonstrated safety and promising early efficacy in NHL and CLL. NAE inhibition downregulated NFκB signaling in vivo.', authkeywords=None, citedby_count=0, openaccess=1, freetoread='repositoryam', freetoreadLabel='Green', fund_acr='NCI', fund_no='P30CA023108', fund_sponsor='National Cancer Institute')"
      ]
     },
     "execution_count": 18,
     "metadata": {},
     "output_type": "execute_result"
    }
   ],
   "source": [
    "ab.results[0]"
   ]
  },
  {
   "cell_type": "code",
   "execution_count": 24,
   "metadata": {},
   "outputs": [
    {
     "name": "stderr",
     "output_type": "stream",
     "text": [
      "ERROR: Could not find a version that satisfies the requirement pyelsevier (from versions: none)\n",
      "ERROR: No matching distribution found for pyelsevier\n"
     ]
    }
   ],
   "source": [
    "!pip install pyelsevier\n"
   ]
  },
  {
   "cell_type": "code",
   "execution_count": 25,
   "metadata": {},
   "outputs": [],
   "source": []
  },
  {
   "cell_type": "code",
   "execution_count": null,
   "metadata": {},
   "outputs": [],
   "source": []
  }
 ],
 "metadata": {
  "kernelspec": {
   "display_name": "Python 3",
   "language": "python",
   "name": "python3"
  },
  "language_info": {
   "codemirror_mode": {
    "name": "ipython",
    "version": 3
   },
   "file_extension": ".py",
   "mimetype": "text/x-python",
   "name": "python",
   "nbconvert_exporter": "python",
   "pygments_lexer": "ipython3",
   "version": "3.10.9"
  },
  "orig_nbformat": 4
 },
 "nbformat": 4,
 "nbformat_minor": 2
}
