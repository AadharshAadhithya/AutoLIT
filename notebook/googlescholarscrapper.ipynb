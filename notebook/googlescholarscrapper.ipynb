{
 "cells": [
  {
   "cell_type": "code",
   "execution_count": 6,
   "metadata": {},
   "outputs": [],
   "source": [
    "from scholarly import scholarly"
   ]
  },
  {
   "cell_type": "code",
   "execution_count": 6,
   "metadata": {},
   "outputs": [],
   "source": [
    "from scholarly import ProxyGenerator\n",
    "\n",
    "# Set up a ProxyGenerator object to use free proxies\n",
    "# This needs to be done only once per session\n",
    "pg = ProxyGenerator()\n",
    "pg.FreeProxies()\n",
    "scholarly.use_proxy(pg)\n",
    "# Now search Google Scholar from behind a proxy"
   ]
  },
  {
   "cell_type": "code",
   "execution_count": 7,
   "metadata": {},
   "outputs": [],
   "source": [
    "from scholarly import scholarly\n",
    "\n",
    "\n",
    "search_query = scholarly.search_pubs('Covid 19 Forecasting')\n",
    "\n",
    "\n"
   ]
  },
  {
   "cell_type": "code",
   "execution_count": 8,
   "metadata": {},
   "outputs": [],
   "source": [
    "ab = next(search_query)"
   ]
  },
  {
   "cell_type": "code",
   "execution_count": 9,
   "metadata": {},
   "outputs": [
    {
     "data": {
      "text/plain": [
       "{'container_type': 'Publication',\n",
       " 'source': <PublicationSource.PUBLICATION_SEARCH_SNIPPET: 'PUBLICATION_SEARCH_SNIPPET'>,\n",
       " 'bib': {'title': 'A review on COVID-19 forecasting models',\n",
       "  'author': ['I Rahimi', 'F Chen', 'AH Gandomi'],\n",
       "  'pub_year': '2021',\n",
       "  'venue': 'Neural Computing and Applications',\n",
       "  'abstract': 'This study aimed to review the most important forecasting models for COVID-19 and provides  a short analysis of published literature. This paper highlighted the most important subject'},\n",
       " 'filled': False,\n",
       " 'gsrank': 1,\n",
       " 'pub_url': 'https://link.springer.com/article/10.1007/s00521-020-05626-8',\n",
       " 'author_id': ['2idyBi0AAAAJ', 'EMVGAKgAAAAJ', 'VMf3wfMAAAAJ'],\n",
       " 'url_scholarbib': '/scholar?hl=en&q=info:NgUHT2jI8qoJ:scholar.google.com/&output=cite&scirp=0&hl=en',\n",
       " 'url_add_sclib': '/citations?hl=en&xsrf=&continue=/scholar%3Fq%3DCovid%2B19%2BForecasting%26hl%3Den%26as_sdt%3D0,33&citilm=1&update_op=library_add&info=NgUHT2jI8qoJ&ei=P1sYZI2XMdGNywTRvoiwAQ&json=',\n",
       " 'num_citations': 135,\n",
       " 'citedby_url': '/scholar?cites=12318128281139742006&as_sdt=5,33&sciodt=0,33&hl=en',\n",
       " 'url_related_articles': '/scholar?q=related:NgUHT2jI8qoJ:scholar.google.com/&scioq=Covid+19+Forecasting&hl=en&as_sdt=0,33',\n",
       " 'eprint_url': 'https://link.springer.com/article/10.1007/s00521-020-05626-8'}"
      ]
     },
     "execution_count": 9,
     "metadata": {},
     "output_type": "execute_result"
    }
   ],
   "source": [
    "ab"
   ]
  },
  {
   "cell_type": "code",
   "execution_count": null,
   "metadata": {},
   "outputs": [],
   "source": [
    "import requests\n",
    "\n",
    "# Specify the DOI or URL of the paper you want to download\n",
    "doi = '10.1126/science.169.3946.635'\n",
    "\n",
    "# Make a request to Sci-Hub to get the download link for the paper\n",
    "response = requests.get(f'https://sci-hub.do/{ab[\"pub_url\"]}')\n",
    "\n",
    "# Extract the download link from the response\n",
    "download_link = response.url\n",
    "\n",
    "# Download the paper using the download link\n",
    "with open('paper.pdf', 'wb') as f:\n",
    "    f.write(requests.get(download_link).content)\n"
   ]
  },
  {
   "cell_type": "code",
   "execution_count": null,
   "metadata": {},
   "outputs": [
    {
     "name": "stdout",
     "output_type": "stream",
     "text": [
      "--------------\n",
      "180\n",
      "--------------\n",
      "--------------\n",
      "176\n",
      "--------------\n",
      "--------------\n",
      "186\n",
      "--------------\n",
      "--------------\n",
      "183\n",
      "--------------\n",
      "--------------\n",
      "182\n",
      "--------------\n",
      "--------------\n",
      "181\n",
      "--------------\n",
      "--------------\n",
      "177\n",
      "--------------\n",
      "--------------\n",
      "179\n",
      "--------------\n",
      "--------------\n",
      "183\n",
      "--------------\n",
      "--------------\n",
      "177\n",
      "--------------\n"
     ]
    },
    {
     "ename": "KeyboardInterrupt",
     "evalue": "",
     "output_type": "error",
     "traceback": [
      "\u001b[1;31m---------------------------------------------------------------------------\u001b[0m",
      "\u001b[1;31mKeyboardInterrupt\u001b[0m                         Traceback (most recent call last)",
      "Cell \u001b[1;32mIn[16], line 2\u001b[0m\n\u001b[0;32m      1\u001b[0m \u001b[39mfor\u001b[39;00m i \u001b[39min\u001b[39;00m \u001b[39mrange\u001b[39m(\u001b[39m50\u001b[39m):\n\u001b[1;32m----> 2\u001b[0m     ab \u001b[39m=\u001b[39m \u001b[39mnext\u001b[39;49m(search_query)\n\u001b[0;32m      3\u001b[0m     \u001b[39mprint\u001b[39m(\u001b[39m\"\u001b[39m\u001b[39m--------------\u001b[39m\u001b[39m\"\u001b[39m)\n\u001b[0;32m      4\u001b[0m     \u001b[39mprint\u001b[39m(\u001b[39mlen\u001b[39m(ab[\u001b[39m'\u001b[39m\u001b[39mbib\u001b[39m\u001b[39m'\u001b[39m][\u001b[39m'\u001b[39m\u001b[39mabstract\u001b[39m\u001b[39m'\u001b[39m]))\n",
      "File \u001b[1;32md:\\projects\\autolit\\autolitenv\\lib\\site-packages\\scholarly\\publication_parser.py:90\u001b[0m, in \u001b[0;36m_SearchScholarIterator.__next__\u001b[1;34m(self)\u001b[0m\n\u001b[0;32m     87\u001b[0m     url \u001b[39m=\u001b[39m \u001b[39mself\u001b[39m\u001b[39m.\u001b[39m_soup\u001b[39m.\u001b[39mfind(\n\u001b[0;32m     88\u001b[0m         class_\u001b[39m=\u001b[39m\u001b[39m'\u001b[39m\u001b[39mgs_ico gs_ico_nav_next\u001b[39m\u001b[39m'\u001b[39m)\u001b[39m.\u001b[39mparent[\u001b[39m'\u001b[39m\u001b[39mhref\u001b[39m\u001b[39m'\u001b[39m]\n\u001b[0;32m     89\u001b[0m     \u001b[39mself\u001b[39m\u001b[39m.\u001b[39m_url \u001b[39m=\u001b[39m url\n\u001b[1;32m---> 90\u001b[0m     \u001b[39mself\u001b[39;49m\u001b[39m.\u001b[39;49m_load_url(url)\n\u001b[0;32m     91\u001b[0m     \u001b[39mreturn\u001b[39;00m \u001b[39mself\u001b[39m\u001b[39m.\u001b[39m\u001b[39m__next__\u001b[39m()\n\u001b[0;32m     92\u001b[0m \u001b[39melse\u001b[39;00m:\n",
      "File \u001b[1;32md:\\projects\\autolit\\autolitenv\\lib\\site-packages\\scholarly\\publication_parser.py:59\u001b[0m, in \u001b[0;36m_SearchScholarIterator._load_url\u001b[1;34m(self, url)\u001b[0m\n\u001b[0;32m     57\u001b[0m \u001b[39mdef\u001b[39;00m \u001b[39m_load_url\u001b[39m(\u001b[39mself\u001b[39m, url: \u001b[39mstr\u001b[39m):\n\u001b[0;32m     58\u001b[0m     \u001b[39m# this is temporary until setup json file\u001b[39;00m\n\u001b[1;32m---> 59\u001b[0m     \u001b[39mself\u001b[39m\u001b[39m.\u001b[39m_soup \u001b[39m=\u001b[39m \u001b[39mself\u001b[39;49m\u001b[39m.\u001b[39;49m_nav\u001b[39m.\u001b[39;49m_get_soup(url)\n\u001b[0;32m     60\u001b[0m     \u001b[39mself\u001b[39m\u001b[39m.\u001b[39m_pos \u001b[39m=\u001b[39m \u001b[39m0\u001b[39m\n\u001b[0;32m     61\u001b[0m     \u001b[39mself\u001b[39m\u001b[39m.\u001b[39m_rows \u001b[39m=\u001b[39m \u001b[39mself\u001b[39m\u001b[39m.\u001b[39m_soup\u001b[39m.\u001b[39mfind_all(\u001b[39m'\u001b[39m\u001b[39mdiv\u001b[39m\u001b[39m'\u001b[39m, class_\u001b[39m=\u001b[39m\u001b[39m'\u001b[39m\u001b[39mgs_r gs_or gs_scl\u001b[39m\u001b[39m'\u001b[39m) \u001b[39m+\u001b[39m \u001b[39mself\u001b[39m\u001b[39m.\u001b[39m_soup\u001b[39m.\u001b[39mfind_all(\u001b[39m'\u001b[39m\u001b[39mdiv\u001b[39m\u001b[39m'\u001b[39m, class_\u001b[39m=\u001b[39m\u001b[39m'\u001b[39m\u001b[39mgsc_mpat_ttl\u001b[39m\u001b[39m'\u001b[39m)\n",
      "File \u001b[1;32md:\\projects\\autolit\\autolitenv\\lib\\site-packages\\scholarly\\_navigator.py:239\u001b[0m, in \u001b[0;36mNavigator._get_soup\u001b[1;34m(self, url)\u001b[0m\n\u001b[0;32m    237\u001b[0m \u001b[39mdef\u001b[39;00m \u001b[39m_get_soup\u001b[39m(\u001b[39mself\u001b[39m, url: \u001b[39mstr\u001b[39m) \u001b[39m-\u001b[39m\u001b[39m>\u001b[39m BeautifulSoup:\n\u001b[0;32m    238\u001b[0m \u001b[39m    \u001b[39m\u001b[39m\"\"\"Return the BeautifulSoup for a page on scholar.google.com\"\"\"\u001b[39;00m\n\u001b[1;32m--> 239\u001b[0m     html \u001b[39m=\u001b[39m \u001b[39mself\u001b[39;49m\u001b[39m.\u001b[39;49m_get_page(\u001b[39m'\u001b[39;49m\u001b[39mhttps://scholar.google.com\u001b[39;49m\u001b[39m{0}\u001b[39;49;00m\u001b[39m'\u001b[39;49m\u001b[39m.\u001b[39;49mformat(url))\n\u001b[0;32m    240\u001b[0m     html \u001b[39m=\u001b[39m html\u001b[39m.\u001b[39mreplace(\u001b[39mu\u001b[39m\u001b[39m'\u001b[39m\u001b[39m\\xa0\u001b[39;00m\u001b[39m'\u001b[39m, \u001b[39mu\u001b[39m\u001b[39m'\u001b[39m\u001b[39m \u001b[39m\u001b[39m'\u001b[39m)\n\u001b[0;32m    241\u001b[0m     res \u001b[39m=\u001b[39m BeautifulSoup(html, \u001b[39m'\u001b[39m\u001b[39mhtml.parser\u001b[39m\u001b[39m'\u001b[39m)\n",
      "File \u001b[1;32md:\\projects\\autolit\\autolitenv\\lib\\site-packages\\scholarly\\_navigator.py:113\u001b[0m, in \u001b[0;36mNavigator._get_page\u001b[1;34m(self, pagerequest, premium)\u001b[0m\n\u001b[0;32m    111\u001b[0m \u001b[39mtry\u001b[39;00m:\n\u001b[0;32m    112\u001b[0m     w \u001b[39m=\u001b[39m random\u001b[39m.\u001b[39muniform(\u001b[39m1\u001b[39m,\u001b[39m2\u001b[39m)\n\u001b[1;32m--> 113\u001b[0m     time\u001b[39m.\u001b[39;49msleep(w)\n\u001b[0;32m    114\u001b[0m     resp \u001b[39m=\u001b[39m session\u001b[39m.\u001b[39mget(pagerequest, timeout\u001b[39m=\u001b[39mtimeout)\n\u001b[0;32m    115\u001b[0m     \u001b[39mif\u001b[39;00m premium \u001b[39mis\u001b[39;00m \u001b[39mFalse\u001b[39;00m:  \u001b[39m# premium methods may contain sensitive information\u001b[39;00m\n",
      "\u001b[1;31mKeyboardInterrupt\u001b[0m: "
     ]
    }
   ],
   "source": [
    "for i in range(50):\n",
    "    ab = next(search_query)\n",
    "    print(\"--------------\")\n",
    "    print(len(ab['bib']['abstract']))\n",
    "    print(\"--------------\")"
   ]
  },
  {
   "cell_type": "code",
   "execution_count": null,
   "metadata": {},
   "outputs": [
    {
     "data": {
      "text/plain": [
       "{'container_type': 'Publication',\n",
       " 'source': <PublicationSource.PUBLICATION_SEARCH_SNIPPET: 'PUBLICATION_SEARCH_SNIPPET'>,\n",
       " 'bib': {'title': 'A review on COVID-19 forecasting models',\n",
       "  'author': ['I Rahimi', 'F Chen', 'AH Gandomi'],\n",
       "  'pub_year': '2021',\n",
       "  'venue': 'Neural Computing and Applications',\n",
       "  'abstract': 'This study aimed to review the most important forecasting models for COVID-19 and provides  a short analysis of published literature. This paper highlighted the most important subject'},\n",
       " 'filled': False,\n",
       " 'gsrank': 1,\n",
       " 'pub_url': 'https://link.springer.com/article/10.1007/s00521-020-05626-8',\n",
       " 'author_id': ['2idyBi0AAAAJ', 'EMVGAKgAAAAJ', 'VMf3wfMAAAAJ'],\n",
       " 'url_scholarbib': '/scholar?hl=en&q=info:NgUHT2jI8qoJ:scholar.google.com/&output=cite&scirp=0&hl=en',\n",
       " 'url_add_sclib': '/citations?hl=en&xsrf=&continue=/scholar%3Fq%3DCovid%2B19%2BForecasting%26hl%3Den%26as_sdt%3D0,33&citilm=1&update_op=library_add&info=NgUHT2jI8qoJ&ei=mSAUZPKfHLWI6rQPraqliAU&json=',\n",
       " 'num_citations': 134,\n",
       " 'citedby_url': '/scholar?cites=12318128281139742006&as_sdt=5,33&sciodt=0,33&hl=en',\n",
       " 'url_related_articles': '/scholar?q=related:NgUHT2jI8qoJ:scholar.google.com/&scioq=Covid+19+Forecasting&hl=en&as_sdt=0,33',\n",
       " 'eprint_url': 'https://link.springer.com/article/10.1007/s00521-020-05626-8'}"
      ]
     },
     "execution_count": 9,
     "metadata": {},
     "output_type": "execute_result"
    }
   ],
   "source": [
    "ab"
   ]
  },
  {
   "cell_type": "code",
   "execution_count": null,
   "metadata": {},
   "outputs": [],
   "source": []
  }
 ],
 "metadata": {
  "kernelspec": {
   "display_name": "Python 3",
   "language": "python",
   "name": "python3"
  },
  "language_info": {
   "codemirror_mode": {
    "name": "ipython",
    "version": 3
   },
   "file_extension": ".py",
   "mimetype": "text/x-python",
   "name": "python",
   "nbconvert_exporter": "python",
   "pygments_lexer": "ipython3",
   "version": "3.10.9"
  },
  "orig_nbformat": 4
 },
 "nbformat": 4,
 "nbformat_minor": 2
}
